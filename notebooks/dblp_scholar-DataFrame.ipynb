{
 "cells": [
  {
   "cell_type": "markdown",
   "metadata": {},
   "source": [
    "## Inputs and output\n"
   ]
  },
  {
   "cell_type": "code",
   "execution_count": 2,
   "metadata": {
    "collapsed": true
   },
   "outputs": [],
   "source": [
    "fname_dblp = \"../inputs/DBLP1.csv\"\n",
    "fname_scholar = \"../inputs/Scholar.csv\"\n",
    "fname_result = \"../outputs/DBLP_Scholar_perfectMapping_GuofengZhao.csv\""
   ]
  },
  {
   "cell_type": "markdown",
   "metadata": {},
   "source": [
    "## Import required packages\n",
    "Difflib - Ratcliff/Obershelp algorithm\n",
    "distance - Measure Levenshtein/Hamming/Jaccard/Sorensen distance"
   ]
  },
  {
   "cell_type": "code",
   "execution_count": 3,
   "metadata": {
    "collapsed": false
   },
   "outputs": [],
   "source": [
    "import pandas as pd\n",
    "import numpy as np\n",
    "import re\n",
    "import difflib\n",
    "import distance\n",
    "from datetime import datetime\n",
    "\n",
    "title_similarity_threshold = 0.90\n",
    "authors_similarity_threshold = 0.50\n",
    "venue_similarity_threshold = 0.90\n",
    "year_similarity_threshold = 0.99"
   ]
  },
  {
   "cell_type": "markdown",
   "metadata": {},
   "source": [
    "## load DBLP csv files into data frame"
   ]
  },
  {
   "cell_type": "code",
   "execution_count": 7,
   "metadata": {
    "collapsed": false,
    "scrolled": false
   },
   "outputs": [],
   "source": [
    "dblp = pd.read_csv(fname_dblp, quotechar='\"', encoding='ansi', engine='python')\n"
   ]
  },
  {
   "cell_type": "markdown",
   "metadata": {},
   "source": [
    "## Cleaning DBLP"
   ]
  },
  {
   "cell_type": "code",
   "execution_count": 4,
   "metadata": {
    "collapsed": false
   },
   "outputs": [
    {
     "name": "stdout",
     "output_type": "stream",
     "text": [
      "Total DBLP rows: (2615, 6)\n",
      "idDBLP     2615\n",
      "title      2615\n",
      "authors    2397\n",
      "venue      2404\n",
      "year       2615\n",
      "Row_ID     2615\n",
      "dtype: int64\n"
     ]
    },
    {
     "data": {
      "text/html": [
       "<div>\n",
       "<table border=\"1\" class=\"dataframe\">\n",
       "  <thead>\n",
       "    <tr style=\"text-align: right;\">\n",
       "      <th></th>\n",
       "      <th>idDBLP</th>\n",
       "      <th>title</th>\n",
       "      <th>authors</th>\n",
       "      <th>venue</th>\n",
       "      <th>year</th>\n",
       "      <th>Row_ID</th>\n",
       "    </tr>\n",
       "  </thead>\n",
       "  <tbody>\n",
       "    <tr>\n",
       "      <th>0</th>\n",
       "      <td>journals/sigmod/EisenbergM02</td>\n",
       "      <td>sql/xml is making good progress</td>\n",
       "      <td>a eisenberg, j melton</td>\n",
       "      <td>sigmod record</td>\n",
       "      <td>2002</td>\n",
       "      <td>2</td>\n",
       "    </tr>\n",
       "    <tr>\n",
       "      <th>1</th>\n",
       "      <td>conf/vldb/AmmannJR95</td>\n",
       "      <td>using formal methods to reason about semantics...</td>\n",
       "      <td>p ammann, s jajodia, i ray</td>\n",
       "      <td>vldb</td>\n",
       "      <td>1995</td>\n",
       "      <td>3</td>\n",
       "    </tr>\n",
       "    <tr>\n",
       "      <th>2</th>\n",
       "      <td>journals/sigmod/Liu02</td>\n",
       "      <td>editor's notes</td>\n",
       "      <td>l liu</td>\n",
       "      <td>sigmod record</td>\n",
       "      <td>2002</td>\n",
       "      <td>4</td>\n",
       "    </tr>\n",
       "    <tr>\n",
       "      <th>3</th>\n",
       "      <td>journals/sigmod/Hammer02</td>\n",
       "      <td>report on the acm fourth international worksho...</td>\n",
       "      <td>NaN</td>\n",
       "      <td>NaN</td>\n",
       "      <td>2002</td>\n",
       "      <td>5</td>\n",
       "    </tr>\n",
       "    <tr>\n",
       "      <th>4</th>\n",
       "      <td>conf/vldb/FerrandinaMZFM95</td>\n",
       "      <td>schema and database evolution in the o2 object...</td>\n",
       "      <td>f ferrandina, t meyer, r zicari, g ferran, j m...</td>\n",
       "      <td>vldb</td>\n",
       "      <td>1995</td>\n",
       "      <td>6</td>\n",
       "    </tr>\n",
       "  </tbody>\n",
       "</table>\n",
       "</div>"
      ],
      "text/plain": [
       "                         idDBLP  \\\n",
       "0  journals/sigmod/EisenbergM02   \n",
       "1          conf/vldb/AmmannJR95   \n",
       "2         journals/sigmod/Liu02   \n",
       "3      journals/sigmod/Hammer02   \n",
       "4    conf/vldb/FerrandinaMZFM95   \n",
       "\n",
       "                                               title  \\\n",
       "0                    sql/xml is making good progress   \n",
       "1  using formal methods to reason about semantics...   \n",
       "2                                     editor's notes   \n",
       "3  report on the acm fourth international worksho...   \n",
       "4  schema and database evolution in the o2 object...   \n",
       "\n",
       "                                             authors          venue  year  \\\n",
       "0                              a eisenberg, j melton  sigmod record  2002   \n",
       "1                         p ammann, s jajodia, i ray           vldb  1995   \n",
       "2                                              l liu  sigmod record  2002   \n",
       "3                                                NaN            NaN  2002   \n",
       "4  f ferrandina, t meyer, r zicari, g ferran, j m...           vldb  1995   \n",
       "\n",
       "   Row_ID  \n",
       "0       2  \n",
       "1       3  \n",
       "2       4  \n",
       "3       5  \n",
       "4       6  "
      ]
     },
     "execution_count": 4,
     "metadata": {},
     "output_type": "execute_result"
    }
   ],
   "source": [
    "print (\"Total DBLP rows: {}\".format(dblp.shape))\n",
    "print(dblp.count())\n",
    "#dblp.head(5)\n",
    "dblp['title'] = dblp['title'].map(lambda x: x if type(x)!=str else x.lower().strip())\n",
    "dblp['authors'] = dblp['authors'].map(lambda x: x if type(x)!=str else x.lower().strip())\n",
    "dblp['venue'] = dblp['venue'].map(lambda x: x if type(x)!=str else x.lower().strip())\n",
    "dblp.head(5)\n"
   ]
  },
  {
   "cell_type": "markdown",
   "metadata": {},
   "source": [
    "## Deduplicate for DBLP"
   ]
  },
  {
   "cell_type": "code",
   "execution_count": null,
   "metadata": {
    "collapsed": true
   },
   "outputs": [],
   "source": [
    "# define a few helper functions\n",
    "def title_similarity_difflib (row):\n",
    "    return difflib.SequenceMatcher(None, row[\"title\"], row[\"title_R\"]).quick_ratio()\n",
    "\n",
    "def title_similarity_levenshtein (row):\n",
    "    return 1- distance.nlevenshtein(row[\"title\"], row[\"title_R\"], method=1)\n",
    "\n",
    "def title_similarity_sorensen (row):\n",
    "    return 1- distance.sorensen(row[\"title\"], row[\"title_R\"])\n",
    "\n",
    "def title_similarity_jaccard (row):\n",
    "    return 1- distance.jaccard(row[\"title\"], row[\"title_R\"])\n",
    "\n",
    "def title_similarity(row, method = \"difflib\"):\n",
    "    if method.lower() == \"levenshtein\":\n",
    "        return title_similarity_levenshtein (row)\n",
    "    if method.lower() == \"sorensen\":\n",
    "        return title_similarity_sorensen (row)\n",
    "    if method.lower() == \"jaccard\":\n",
    "        return title_similarity_jaccard (row)\n",
    "    return title_similarity_difflib (row)\n",
    "    \n",
    "def authors_similarity (row):\n",
    "    if pd.isnull(row[\"authors\"]):\n",
    "        return 1\n",
    "    if pd.isnull(row[\"authors_R\"]):\n",
    "        return 1\n",
    "    return difflib.SequenceMatcher(None, re.split(r'[;,\\s]\\s*', row[\"authors\"]), re.split(r'[;,\\s]\\s*', row[\"authors_R\"])).quick_ratio()\n",
    "\n",
    "def venue_similarity (row):\n",
    "    if pd.isnull(row[\"venue\"]):\n",
    "        return 1\n",
    "    if pd.isnull(row[\"venue_R\"]):\n",
    "        return 1\n",
    "#    return difflib.SequenceMatcher(None, row[\"venue_L\"], row[\"venue_R\"]).quick_ratio()\n",
    "    return difflib.SequenceMatcher(None, row[\"venue\"], row[\"venue_R\"]).ratio()\n",
    "\n",
    "def year_similarity (row):\n",
    "    if pd.isnull(row[\"year\"]):\n",
    "        return 1\n",
    "    if pd.isnull(row[\"year_R\"]):\n",
    "        return 1\n",
    "    return 1 if row[\"year\"] == row[\"year_R\"] else 0\n",
    "\n",
    "def row_similar (row):\n",
    "    if title_similarity(row) < title_similarity_threshold:\n",
    "        return False\n",
    "    if authors_similarity(row) < authors_similarity_threshold:\n",
    "        return False\n",
    "    if venue_similarity(row) < venue_similarity_threshold:\n",
    "        return False\n",
    "    if year_similarity(row) < year_similarity_threshold:\n",
    "        return False\n",
    "    return True"
   ]
  },
  {
   "cell_type": "code",
   "execution_count": null,
   "metadata": {
    "collapsed": false
   },
   "outputs": [],
   "source": [
    "# generate the N*N pair matrix and fold diagnally\n",
    "dblp['tmp'] = 1\n",
    "max_row_id = dblp.loc[:, [\"Row_ID\"]].max().at[\"Row_ID\"]\n",
    "dblp_pair = dblp.merge(dblp, on='tmp', suffixes=[\"\",\"_R\"])\n",
    "print(\"Total pairs after merge: {}\".format(dblp_pair.shape))\n",
    "#dblp_pair.drop(labels=['tmp'], axis=1, inplace=True)\n",
    "dblp_pair = dblp_pair[(dblp_pair[\"Row_ID\"] < dblp_pair[\"Row_ID_R\"]) | (dblp_pair[\"Row_ID_R\"] == max_row_id)]\n",
    "print(\"Total pairs after half-fold deduplicate: {}\".format(dblp_pair.shape))\n",
    "print(\"Start calculating similarity - \" + str(datetime.now()))\n",
    "dblp_pair['row_similar'] = dblp_pair.apply(row_similar, axis = 1)\n",
    "print(\"Finished calculating similarity - \" + str(datetime.now()))\n",
    "print(\"Total pairs after similarity evaluation: {}\".format(dblp_pair.shape))\n",
    "dblp_pair.head(5)"
   ]
  },
  {
   "cell_type": "code",
   "execution_count": null,
   "metadata": {
    "collapsed": false
   },
   "outputs": [],
   "source": [
    "x = dblp_pair.groupby(by=\"Row_ID\", as_index=False).agg(\"max\")\n",
    "similar_rows = x[x[\"row_similar\"] == True]\n",
    "print(\"similar pairs: {}\".format(similar_rows.shape))\n",
    "unique_rows = x[x[\"row_similar\"] == False]\n",
    "print(\"unique Row_IDs kept: {}\".format(unique_rows.shape))\n",
    "dblp_clean = unique_rows.loc[:, ['idDBLP', 'title', 'authors', 'venue', 'year', 'Row_ID', 'tmp']]\n",
    "#dblp_clean.rename(columns={'idDBLP_L':'idDBLP', 'title_L':'title', 'authors_L':'authors', 'venue_L':'venue', 'year_L':'year', 'Row_ID_L':'Row_ID'}, inplace = True)\n",
    "print(\"clean DBLP: {}\".format(dblp_clean.shape))\n",
    "dblp_clean.head(10)"
   ]
  },
  {
   "cell_type": "markdown",
   "metadata": {},
   "source": [
    "## load Scholar csv into data frame"
   ]
  },
  {
   "cell_type": "code",
   "execution_count": 6,
   "metadata": {
    "collapsed": false
   },
   "outputs": [],
   "source": [
    "scholar = pd.read_csv(fname_scholar, quotechar='\"', encoding='ansi', engine='python')\n",
    "scholar.rename(columns={'ROW_ID':'Row_ID'}, inplace = True)"
   ]
  },
  {
   "cell_type": "markdown",
   "metadata": {},
   "source": [
    "## cleaning Scholar"
   ]
  },
  {
   "cell_type": "code",
   "execution_count": null,
   "metadata": {
    "collapsed": false
   },
   "outputs": [],
   "source": [
    "print (\"Total Scholar rows: {}\".format(scholar.shape))\n",
    "print(scholar.count())\n",
    "\n",
    "scholar['title'] = scholar['title'].map(lambda x: x if type(x)!=str else x.lower().strip())\n",
    "scholar['authors'] = scholar['authors'].map(lambda x: x if type(x)!=str else x.lower().strip())\n",
    "scholar['venue'] = scholar['venue'].map(lambda x: x if type(x)!=str else x.lower().strip())\n",
    "scholar.head(5)"
   ]
  },
  {
   "cell_type": "markdown",
   "metadata": {},
   "source": [
    "## link records from DBLP to Scholar"
   ]
  },
  {
   "cell_type": "code",
   "execution_count": null,
   "metadata": {
    "collapsed": false
   },
   "outputs": [],
   "source": [
    "# generate the N*M pair matrix\n",
    "scholar['tmp'] = 1\n",
    "#max_row_id = scholar.loc[:, [\"Row_ID\"]].max().at[\"Row_ID\"]\n",
    "dblp_scholar = dblp_clean.merge(scholar, on='tmp', suffixes=[\"\",\"_R\"])\n",
    "print(\"Total pairs after merge: {}\".format(dblp_scholar.shape))\n",
    "dblp_scholar.drop(labels=['tmp'], axis=1, inplace=True)\n",
    "#dblp_scholar = dblp_scholar[(dblp_scholar[\"Row_ID\"] < dblp_scholar[\"Row_ID_R\"]) | (dblp_scholar[\"Row_ID_R\"] == max_row_id)]\n",
    "#print(\"Total pairs after half-fold deduplicate: {}\".format(scholar_pair.shape))\n",
    "print(\"Start calculating similarity - \" + str(datetime.now()))\n",
    "dblp_scholar['row_similar'] = dblp_scholar.apply(row_similar, axis = 1)\n",
    "print(\"Finished calculating similarity - \" + str(datetime.now()))\n",
    "print(\"Total pairs after similarity evaluation: {}\".format(dblp_scholar.shape))\n",
    "dblp_scholar.head(5)"
   ]
  },
  {
   "cell_type": "code",
   "execution_count": null,
   "metadata": {
    "collapsed": true
   },
   "outputs": [],
   "source": []
  }
 ],
 "metadata": {
  "kernelspec": {
   "display_name": "Python 3",
   "language": "python",
   "name": "python3"
  },
  "language_info": {
   "codemirror_mode": {
    "name": "ipython",
    "version": 3
   },
   "file_extension": ".py",
   "mimetype": "text/x-python",
   "name": "python",
   "nbconvert_exporter": "python",
   "pygments_lexer": "ipython3",
   "version": "3.6.0"
  }
 },
 "nbformat": 4,
 "nbformat_minor": 2
}
